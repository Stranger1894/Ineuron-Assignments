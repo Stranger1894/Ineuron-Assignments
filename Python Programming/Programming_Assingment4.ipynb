{
 "cells": [
  {
   "cell_type": "code",
   "execution_count": null,
   "metadata": {},
   "outputs": [],
   "source": [
    "1.\tWrite a Python Program to Find the Factorial of a Number?\n",
    "2.\tWrite a Python Program to Display the multiplication Table?\n",
    "3.\tWrite a Python Program to Print the Fibonacci sequence?\n",
    "4.\tWrite a Python Program to Check Armstrong Number?\n",
    "5.\tWrite a Python Program to Find Armstrong Number in an Interval?\n",
    "6.\tWrite a Python Program to Find the Sum of Natural Numbers?\n"
   ]
  },
  {
   "cell_type": "code",
   "execution_count": 17,
   "metadata": {},
   "outputs": [
    {
     "name": "stdout",
     "output_type": "stream",
     "text": [
      "Enter the number: 100\n",
      "2\n",
      "2\n",
      "5\n",
      "5\n"
     ]
    }
   ],
   "source": [
    "#sol 1\n",
    "\n",
    "def factorial():\n",
    "    num = int(input(\"Enter the number: \"))\n",
    "\n",
    "    while num > 1:\n",
    "        for i in range(2,num+1):\n",
    "            if num%i == 0:\n",
    "                print(i)\n",
    "                num = int(num/i)\n",
    "                break\n",
    "     \n",
    "    \n",
    "factorial()"
   ]
  },
  {
   "cell_type": "code",
   "execution_count": 18,
   "metadata": {},
   "outputs": [
    {
     "name": "stdout",
     "output_type": "stream",
     "text": [
      "Display multiplication table of? 15\n",
      "15 x 1 = 15\n",
      "15 x 2 = 30\n",
      "15 x 3 = 45\n",
      "15 x 4 = 60\n",
      "15 x 5 = 75\n",
      "15 x 6 = 90\n",
      "15 x 7 = 105\n",
      "15 x 8 = 120\n",
      "15 x 9 = 135\n",
      "15 x 10 = 150\n"
     ]
    }
   ],
   "source": [
    "#sol 2\n",
    "\n",
    "def multiplication_table():\n",
    "    num = int(input(\"Display multiplication table of? \"))\n",
    "\n",
    "    for i in range(1, 11):\n",
    "       print(num, 'x', i, '=', num*i)\n",
    "    \n",
    "    \n",
    "multiplication_table()"
   ]
  },
  {
   "cell_type": "code",
   "execution_count": 27,
   "metadata": {},
   "outputs": [
    {
     "name": "stdout",
     "output_type": "stream",
     "text": [
      "How many fibonacci numbers are required? 10\n",
      "0\n",
      "1\n",
      "1\n",
      "2\n",
      "3\n",
      "5\n",
      "8\n",
      "13\n",
      "21\n",
      "34\n"
     ]
    }
   ],
   "source": [
    "#sol 3\n",
    "\n",
    "def fibonacci():\n",
    "    num = int(input(\"How many fibonacci numbers are required? \"))\n",
    "    a = 0\n",
    "    b = 1\n",
    "    \n",
    "    if num == 1:\n",
    "        print(a)\n",
    "        \n",
    "        \n",
    "    elif num > 1:\n",
    "        for i in range(num):\n",
    "            print(a)\n",
    "            add = a+b\n",
    "            a = b\n",
    "            b = add\n",
    "            \n",
    "fibonacci()   "
   ]
  },
  {
   "cell_type": "code",
   "execution_count": 34,
   "metadata": {},
   "outputs": [
    {
     "name": "stdout",
     "output_type": "stream",
     "text": [
      "Enter number: 153\n",
      "153 is an armstrong number\n"
     ]
    }
   ],
   "source": [
    "#sol 4\n",
    "\n",
    "def check_armstrong_num():\n",
    "    num = int(input(\"Enter number: \"))\n",
    "\n",
    "    add = 0\n",
    "\n",
    "    order = len(str(num))\n",
    "\n",
    "    temp = num\n",
    "\n",
    "    while temp > 0:\n",
    "        last_num = temp%10\n",
    "        temp = temp//10\n",
    "        add = add + last_num**order\n",
    "\n",
    "    if num == add:\n",
    "        print(f\"{num} is an armstrong number\")\n",
    "    else:\n",
    "        print(f\"{num} is not an armstrong number\")\n",
    "        \n",
    "        \n",
    "check_armstrong_num()"
   ]
  },
  {
   "cell_type": "code",
   "execution_count": 35,
   "metadata": {},
   "outputs": [
    {
     "name": "stdout",
     "output_type": "stream",
     "text": [
      "Enter lower bound: 1\n",
      "Enter upper buond: 1000\n",
      "1\n",
      "2\n",
      "3\n",
      "4\n",
      "5\n",
      "6\n",
      "7\n",
      "8\n",
      "9\n",
      "153\n",
      "370\n",
      "371\n",
      "407\n"
     ]
    }
   ],
   "source": [
    "# sol 5\n",
    "\n",
    "def print_armstrong_numbers():\n",
    "    lower_bound = int(input(\"Enter lower bound: \"))\n",
    "    upper_bound = int(input(\"Enter upper buond: \"))\n",
    "    \n",
    "    for num in range(lower_bound,upper_bound):\n",
    "        add = 0\n",
    "        order = len(str(num))\n",
    "        temp = num\n",
    "\n",
    "        while temp > 0:\n",
    "            last_num = temp%10\n",
    "            temp = temp//10\n",
    "            add = add + last_num**order\n",
    "\n",
    "        if num == add:\n",
    "            print(num)\n",
    "\n",
    "print_armstrong_numbers()"
   ]
  },
  {
   "cell_type": "code",
   "execution_count": 37,
   "metadata": {},
   "outputs": [
    {
     "name": "stdout",
     "output_type": "stream",
     "text": [
      "Enter the number of natural numbers to be added: 16\n",
      "136\n"
     ]
    }
   ],
   "source": [
    "#sol 6\n",
    "\n",
    "def sum_of_natural_numbers():\n",
    "    num = int(input(\"Enter the number of natural numbers to be added: \"))\n",
    "    sum = 0\n",
    "    for i in range(1,num+1):\n",
    "        sum += i\n",
    "        \n",
    "    print(sum)\n",
    "    \n",
    "\n",
    "sum_of_natural_numbers()"
   ]
  }
 ],
 "metadata": {
  "kernelspec": {
   "display_name": "Python 3",
   "language": "python",
   "name": "python3"
  },
  "language_info": {
   "codemirror_mode": {
    "name": "ipython",
    "version": 3
   },
   "file_extension": ".py",
   "mimetype": "text/x-python",
   "name": "python",
   "nbconvert_exporter": "python",
   "pygments_lexer": "ipython3",
   "version": "3.8.5"
  }
 },
 "nbformat": 4,
 "nbformat_minor": 4
}
