{
 "cells": [
  {
   "cell_type": "code",
   "execution_count": null,
   "metadata": {},
   "outputs": [],
   "source": [
    "1.\tWrite a Python program to convert kilometers to miles?\n",
    "2.\tWrite a Python program to convert Celsius to Fahrenheit?\n",
    "3.\tWrite a Python program to display calendar?\n",
    "4.\tWrite a Python program to solve quadratic equation?\n",
    "5.\tWrite a Python program to swap two variables without temp variable?\n"
   ]
  },
  {
   "cell_type": "code",
   "execution_count": 1,
   "metadata": {},
   "outputs": [
    {
     "name": "stdout",
     "output_type": "stream",
     "text": [
      "Enter value in kilometers: 20\n",
      "20.00 kilometers is equal to 12.43 miles\n"
     ]
    }
   ],
   "source": [
    "# Sol 1 \n",
    "\n",
    "def km_to_mile():\n",
    "    kilometers = float(input(\"Enter value in kilometers: \"))\n",
    "\n",
    "    conv_fac = 0.621371\n",
    "\n",
    "    miles = kilometers * conv_fac\n",
    "    print('%0.2f kilometers is equal to %0.2f miles' %(kilometers,miles))\n",
    "    \n",
    "    \n",
    "km_to_mile()"
   ]
  },
  {
   "cell_type": "code",
   "execution_count": 3,
   "metadata": {},
   "outputs": [
    {
     "name": "stdout",
     "output_type": "stream",
     "text": [
      "Enter temperature in celsius: 37\n",
      "37.0 degree Celsius is equal to 98.60000000000001 degree Fahrenheit.\n"
     ]
    }
   ],
   "source": [
    "#Sol 2\n",
    "\n",
    "def celsius_to_fahrenheit():\n",
    "    celsius = float(input(\"Enter temperature in celsius: \"))\n",
    "    fahrenheit = (celsius * 1.8) + 32\n",
    "    print(str(celsius )+ \" degree Celsius is equal to \" + str(fahrenheit )+ \" degree Fahrenheit.\")\n",
    "    \n",
    "    \n",
    "celsius_to_fahrenheit()"
   ]
  },
  {
   "cell_type": "code",
   "execution_count": 5,
   "metadata": {},
   "outputs": [
    {
     "name": "stdout",
     "output_type": "stream",
     "text": [
      "Enter year: 2023\n",
      "Enter month: 4\n",
      "     April 2023\n",
      "Mo Tu We Th Fr Sa Su\n",
      "                1  2\n",
      " 3  4  5  6  7  8  9\n",
      "10 11 12 13 14 15 16\n",
      "17 18 19 20 21 22 23\n",
      "24 25 26 27 28 29 30\n",
      "\n"
     ]
    }
   ],
   "source": [
    "#Sol 3\n",
    "\n",
    "def display_cal():\n",
    "    import calendar\n",
    "\n",
    "    yy = int(input(\"Enter year: \"))\n",
    "    mm = int(input(\"Enter month: \"))\n",
    "\n",
    "    print(calendar.month(yy, mm))\n",
    "    \n",
    "    \n",
    "display_cal()"
   ]
  },
  {
   "cell_type": "code",
   "execution_count": 6,
   "metadata": {},
   "outputs": [
    {
     "name": "stdout",
     "output_type": "stream",
     "text": [
      "Enter value of a: 1\n",
      "Enter value of b: 5\n",
      "Enter value of c: 6\n",
      "The solution are (-3+0j) and (-2+0j)\n"
     ]
    }
   ],
   "source": [
    "#Sol 4\n",
    "\n",
    "def solve_quad_eq():\n",
    "    import cmath\n",
    "\n",
    "    a = int(input(\"Enter value of a: \"))\n",
    "    b = int(input(\"Enter value of b: \"))\n",
    "    c = int(input(\"Enter value of c: \"))\n",
    "\n",
    "    # calculate the discriminant\n",
    "    d = (b**2) - (4*a*c)\n",
    "\n",
    "    # find two solutions\n",
    "    sol1 = (-b-cmath.sqrt(d))/(2*a)\n",
    "    sol2 = (-b+cmath.sqrt(d))/(2*a)\n",
    "\n",
    "    print(f'The solution are {sol1} and {sol2}')\n",
    "    \n",
    "    \n",
    "solve_quad_eq()"
   ]
  },
  {
   "cell_type": "code",
   "execution_count": 7,
   "metadata": {},
   "outputs": [
    {
     "name": "stdout",
     "output_type": "stream",
     "text": [
      "Enter value of x: 20\n",
      "Enter value of y: 60\n",
      "Before swapping: \n",
      "Value of x :  20  and y :  60\n",
      "After swapping: \n",
      "Value of x :  60  and y :  20\n"
     ]
    }
   ],
   "source": [
    "#Sol 5\n",
    "\n",
    "def swap_vars():\n",
    "    \n",
    "    x = int(input(\"Enter value of x: \"))\n",
    "    y = int(input(\"Enter value of y: \"))\n",
    "\n",
    "    print (\"Before swapping: \")\n",
    "    print(\"Value of x : \", x, \" and y : \", y)\n",
    "\n",
    "    # code to swap 'x' and 'y'\n",
    "    x, y = y, x\n",
    "\n",
    "    print (\"After swapping: \")\n",
    "    print(\"Value of x : \", x, \" and y : \", y)\n",
    "    \n",
    "    \n",
    "swap_vars()"
   ]
  }
 ],
 "metadata": {
  "kernelspec": {
   "display_name": "Python 3",
   "language": "python",
   "name": "python3"
  },
  "language_info": {
   "codemirror_mode": {
    "name": "ipython",
    "version": 3
   },
   "file_extension": ".py",
   "mimetype": "text/x-python",
   "name": "python",
   "nbconvert_exporter": "python",
   "pygments_lexer": "ipython3",
   "version": "3.8.5"
  }
 },
 "nbformat": 4,
 "nbformat_minor": 4
}
