{
 "cells": [
  {
   "cell_type": "code",
   "execution_count": null,
   "metadata": {},
   "outputs": [],
   "source": [
    "Question 1:\n",
    "\n",
    "Write a program that calculates and prints the value according to the given formula:\n",
    "\n",
    "Q = Square root of [(2 * C * D)/H]\n",
    "\n",
    "Following are the fixed values of C and H:\n",
    "\n",
    "C is 50. H is 30.\n",
    "\n",
    "D is the variable whose values should be input to your program in a comma-separated sequence.\n",
    "\n",
    "Example\n",
    "\n",
    "Let us assume the following comma separated input sequence is given to the program:\n",
    "\n",
    "100,150,180\n",
    "\n",
    "The output of the program should be:\n",
    "\n",
    "18,22,24\n"
   ]
  },
  {
   "cell_type": "code",
   "execution_count": 10,
   "metadata": {},
   "outputs": [
    {
     "name": "stdout",
     "output_type": "stream",
     "text": [
      "18,22,24,"
     ]
    }
   ],
   "source": [
    "# Program 1\n",
    "from math import sqrt\n",
    "\n",
    "def program1(*args):\n",
    "    \n",
    "    C = 50\n",
    "    H = 30\n",
    "    \n",
    "    for D in args:\n",
    "        Q = int(sqrt((2 * C * D)/H))\n",
    "        print(Q, end = ',')\n",
    "        \n",
    "        \n",
    "        \n",
    "program1(100,150,180)"
   ]
  },
  {
   "cell_type": "code",
   "execution_count": null,
   "metadata": {},
   "outputs": [],
   "source": [
    "Question 2:\n",
    "Write a program which takes 2 digits, X,Y as input and generates a 2-dimensional array. The element value in the i-th row and j-th column of the array should be i*j.\n",
    "\n",
    "Note: i=0,1.., X-1; j=0,1,¡¬Y-1.\n",
    "\n",
    "Example\n",
    "\n",
    "Suppose the following inputs are given to the program:\n",
    "\n",
    "3,5\n",
    "\n",
    "Then, the output of the program should be:\n",
    "\n",
    "[[0, 0, 0, 0, 0], [0, 1, 2, 3, 4], [0, 2, 4, 6, 8]] \n"
   ]
  },
  {
   "cell_type": "code",
   "execution_count": 13,
   "metadata": {},
   "outputs": [
    {
     "data": {
      "text/plain": [
       "[[0, 0, 0, 0, 0], [0, 1, 2, 3, 4], [0, 2, 4, 6, 8]]"
      ]
     },
     "execution_count": 13,
     "metadata": {},
     "output_type": "execute_result"
    }
   ],
   "source": [
    "# Program 2\n",
    "\n",
    "def generate_2d_array(rows,cols):\n",
    "    matrix = []\n",
    "    for row in range(rows):\n",
    "        a = []\n",
    "        for col in range(cols):\n",
    "            prod = row*col\n",
    "            a.append(prod)\n",
    "        matrix.append(a)\n",
    "    return matrix\n",
    "        \n",
    "        \n",
    "generate_2d_array(3,5)"
   ]
  },
  {
   "cell_type": "code",
   "execution_count": null,
   "metadata": {},
   "outputs": [],
   "source": [
    "Question 3:\n",
    "Write a program that accepts a comma separated sequence of words as input and prints the words in a comma-separated sequence after sorting them alphabetically.\n",
    "\n",
    "Suppose the following input is supplied to the program:\n",
    "\n",
    "without,hello,bag,world\n",
    "\n",
    "Then, the output should be:\n",
    "\n",
    "bag,hello,without,world\n"
   ]
  },
  {
   "cell_type": "code",
   "execution_count": 22,
   "metadata": {},
   "outputs": [
    {
     "name": "stdout",
     "output_type": "stream",
     "text": [
      "bag,hello,without,world,"
     ]
    }
   ],
   "source": [
    "# Problem 3\n",
    "\n",
    "def sort_strings(*args):\n",
    "    lst = [i for i in args]\n",
    "    lst.sort()\n",
    "    for i in lst:\n",
    "        print(i, end = ',')\n",
    "    \n",
    "    \n",
    "sort_strings('without','hello','bag','world')"
   ]
  },
  {
   "cell_type": "code",
   "execution_count": null,
   "metadata": {},
   "outputs": [],
   "source": [
    "Question 4:\n",
    "Write a program that accepts a sequence of whitespace separated words as input and prints the words after removing all duplicate words and sorting them alphanumerically.\n",
    "\n",
    "Suppose the following input is supplied to the program:\n",
    "\n",
    "hello world and practice makes perfect and hello world again\n",
    "\n",
    "Then, the output should be:\n",
    "\n",
    "again and hello makes perfect practice world\n"
   ]
  },
  {
   "cell_type": "code",
   "execution_count": 3,
   "metadata": {},
   "outputs": [
    {
     "name": "stdout",
     "output_type": "stream",
     "text": [
      "again and hello makes perfect practice world "
     ]
    }
   ],
   "source": [
    "# Problem 4\n",
    "\n",
    "def sort_sentence(string):\n",
    "    new_set = set(string.split())\n",
    "    lst = list(new_set)\n",
    "    lst.sort()\n",
    "    for i in lst:\n",
    "        print(i, end = ' ')\n",
    "        \n",
    "        \n",
    "sort_sentence('hello world and practice makes perfect and hello world again')"
   ]
  },
  {
   "cell_type": "code",
   "execution_count": null,
   "metadata": {},
   "outputs": [],
   "source": [
    "Question 5:\n",
    "Write a program that accepts a sentence and calculate the number of letters and digits.\n",
    "\n",
    "Suppose the following input is supplied to the program:\n",
    "\n",
    "hello world! 123\n",
    "\n",
    "Then, the output should be:\n",
    "\n",
    "LETTERS 10\n",
    "\n",
    "DIGITS 3\n"
   ]
  },
  {
   "cell_type": "code",
   "execution_count": 7,
   "metadata": {},
   "outputs": [
    {
     "name": "stdout",
     "output_type": "stream",
     "text": [
      "Letters: 10\n",
      "Digits: 3\n"
     ]
    }
   ],
   "source": [
    "# Problem 5\n",
    "\n",
    "def calculate_letter_digits(string):\n",
    "    digit_count = 0\n",
    "    letter_count = 0\n",
    "    for i in string:\n",
    "        if i.isdigit():\n",
    "            digit_count += 1\n",
    "        elif i.isalpha():\n",
    "            letter_count += 1\n",
    "            \n",
    "    print(f\"Letters: {letter_count}\")\n",
    "    print(f\"Digits: {digit_count}\")\n",
    "    \n",
    "\n",
    "calculate_letter_digits('hello world! 123')"
   ]
  },
  {
   "cell_type": "code",
   "execution_count": null,
   "metadata": {},
   "outputs": [],
   "source": [
    "Question 6:\n",
    "A website requires the users to input username and password to register. Write a program to check the validity of password input by users.\n",
    "\n",
    "Following are the criteria for checking the password:\n",
    "\n",
    "1. At least 1 letter between [a-z]\n",
    "\n",
    "2. At least 1 number between [0-9]\n",
    "\n",
    "1. At least 1 letter between [A-Z]\n",
    "\n",
    "3. At least 1 character from [$#@]\n",
    "\n",
    "4. Minimum length of transaction password: 6\n",
    "\n",
    "5. Maximum length of transaction password: 12\n",
    "\n",
    "Your program should accept a sequence of comma separated passwords and will check them according to the above criteria. Passwords that match the criteria are to be printed, each separated by a comma.\n",
    "\n",
    "Example\n",
    "\n",
    "If the following passwords are given as input to the program:\n",
    "\n",
    "ABd1234@1,a F1#,2w3E*,2We3345\n",
    "\n",
    "Then, the output of the program should be:\n",
    "\n",
    "ABd1234@1\n"
   ]
  },
  {
   "cell_type": "code",
   "execution_count": 8,
   "metadata": {},
   "outputs": [
    {
     "name": "stdout",
     "output_type": "stream",
     "text": [
      "ABd1234@1\n"
     ]
    }
   ],
   "source": [
    "# Problem 6\n",
    "\n",
    "\n",
    "import re\n",
    "\n",
    "def password_validation(passwords):\n",
    "    \n",
    "    passwords = passwords.split(\",\")\n",
    "\n",
    "    accepted_pass = []\n",
    "    for i in passwords:\n",
    "\n",
    "        if len(i) < 6 or len(i) > 12:\n",
    "            continue\n",
    "\n",
    "        elif not re.search(\"([a-z])+\", i):\n",
    "            continue\n",
    "\n",
    "        elif not re.search(\"([A-Z])+\", i):\n",
    "            continue\n",
    "\n",
    "        elif not re.search(\"([0-9])+\", i):\n",
    "            continue\n",
    "\n",
    "        elif not re.search(\"([!@$%^&])+\", i):\n",
    "            continue\n",
    "\n",
    "        else:\n",
    "            accepted_pass.append(i)\n",
    "\n",
    "    print((\" \").join(accepted_pass))\n",
    "    \n",
    "    \n",
    "    \n",
    "password_validation(\"ABd1234@1,a F1#,2w3E*,2We3345\")"
   ]
  }
 ],
 "metadata": {
  "kernelspec": {
   "display_name": "Python 3",
   "language": "python",
   "name": "python3"
  },
  "language_info": {
   "codemirror_mode": {
    "name": "ipython",
    "version": 3
   },
   "file_extension": ".py",
   "mimetype": "text/x-python",
   "name": "python",
   "nbconvert_exporter": "python",
   "pygments_lexer": "ipython3",
   "version": "3.8.5"
  }
 },
 "nbformat": 4,
 "nbformat_minor": 4
}
