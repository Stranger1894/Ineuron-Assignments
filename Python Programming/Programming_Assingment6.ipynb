{
 "cells": [
  {
   "cell_type": "code",
   "execution_count": null,
   "metadata": {},
   "outputs": [],
   "source": [
    "1.\tWrite a Python Program to Display Fibonacci Sequence Using Recursion?\n",
    "2.\tWrite a Python Program to Find Factorial of Number Using Recursion?\n",
    "3.\tWrite a Python Program to calculate your Body Mass Index?\n",
    "4.\tWrite a Python Program to calculate the natural logarithm of any number?\n",
    "5.\tWrite a Python Program for cube sum of first n natural numbers?\n"
   ]
  },
  {
   "cell_type": "code",
   "execution_count": 4,
   "metadata": {},
   "outputs": [
    {
     "name": "stdout",
     "output_type": "stream",
     "text": [
      "Enter a number of fibonacci sequence items required 8\n",
      "Fibonacci sequence:\n",
      "0\n",
      "1\n",
      "1\n",
      "2\n",
      "3\n",
      "5\n",
      "8\n",
      "13\n"
     ]
    }
   ],
   "source": [
    "#sol 1\n",
    "\n",
    "def recur_fibo(n):\n",
    "   if n <= 1:\n",
    "       return n\n",
    "   else:\n",
    "       return(recur_fibo(n-1) + recur_fibo(n-2))\n",
    "\n",
    "    \n",
    "    \n",
    "def fibonacci():\n",
    "    nterms = int(input(\"Enter a number of fibonacci sequence items required \"))\n",
    "    if nterms <= 0:\n",
    "       print(\"Plese enter a positive integer\")\n",
    "    else:\n",
    "       print(\"Fibonacci sequence:\")\n",
    "       for i in range(nterms):\n",
    "           print(recur_fibo(i))\n",
    "\n",
    "fibonacci()"
   ]
  },
  {
   "cell_type": "code",
   "execution_count": 7,
   "metadata": {},
   "outputs": [
    {
     "name": "stdout",
     "output_type": "stream",
     "text": [
      "Enter a number: 4\n",
      "The factorial of 4 is 24\n"
     ]
    }
   ],
   "source": [
    "#sol 2 \n",
    "\n",
    "def recur_factorial(n):\n",
    "   if n == 1:\n",
    "       return n\n",
    "   else:\n",
    "       return n*recur_factorial(n-1)\n",
    "\n",
    "def factorial():\n",
    "    \n",
    "    num = int(input(\"Enter a number: \"))\n",
    "\n",
    "    if num < 0:\n",
    "       print(\"Sorry, factorial does not exist for negative numbers\")\n",
    "    elif num == 0:\n",
    "       print(\"The factorial of 0 is 1\")\n",
    "    else:\n",
    "       print(\"The factorial of\", num, \"is\", recur_factorial(num))\n",
    "    \n",
    "    \n",
    "factorial()"
   ]
  },
  {
   "cell_type": "code",
   "execution_count": 8,
   "metadata": {},
   "outputs": [
    {
     "name": "stdout",
     "output_type": "stream",
     "text": [
      "Enter your height in meters: 1.6\n",
      "Enter your weight in kg: 60\n",
      "Your BMI is:  23.44\n"
     ]
    }
   ],
   "source": [
    "#sol 3\n",
    "\n",
    "def body_mass_index():\n",
    "    height = float(input(\"Enter your height in meters: \"))\n",
    "    weight = float(input(\"Enter your weight in kg: \"))\n",
    "    \n",
    "    bmi = round((weight / height**2),2)\n",
    "    \n",
    "    print(\"Your BMI is: \", bmi)\n",
    "    \n",
    "\n",
    "body_mass_index()"
   ]
  },
  {
   "cell_type": "code",
   "execution_count": 10,
   "metadata": {},
   "outputs": [
    {
     "name": "stdout",
     "output_type": "stream",
     "text": [
      "Enter the number: 5\n",
      "The value is: 1.6094379124341003\n"
     ]
    }
   ],
   "source": [
    "# sol 4\n",
    "\n",
    "def natural_log():\n",
    "    import math\n",
    "\n",
    "    number = int(input(\"Enter the number: \"))\n",
    "\n",
    "    ans = math.log(number)\n",
    "\n",
    "    print(\"The value is:\",ans)\n",
    "    \n",
    "natural_log()"
   ]
  },
  {
   "cell_type": "code",
   "execution_count": 12,
   "metadata": {},
   "outputs": [
    {
     "name": "stdout",
     "output_type": "stream",
     "text": [
      "Enter a number : 5\n",
      "Sum of cubes of the first 5 natural numbers = 225\n"
     ]
    }
   ],
   "source": [
    "#sol 5\n",
    "\n",
    "def sum_of_cubes():\n",
    "    n = int(input('Enter a number : '))\n",
    "    sum = 0\n",
    "    for i in range(n+1):\n",
    "        sum += pow(i, 3)\n",
    "    print(f\"Sum of cubes of the first {n} natural numbers =\", sum)\n",
    "\n",
    "sum_of_cubes()"
   ]
  }
 ],
 "metadata": {
  "kernelspec": {
   "display_name": "Python 3",
   "language": "python",
   "name": "python3"
  },
  "language_info": {
   "codemirror_mode": {
    "name": "ipython",
    "version": 3
   },
   "file_extension": ".py",
   "mimetype": "text/x-python",
   "name": "python",
   "nbconvert_exporter": "python",
   "pygments_lexer": "ipython3",
   "version": "3.8.5"
  }
 },
 "nbformat": 4,
 "nbformat_minor": 4
}
