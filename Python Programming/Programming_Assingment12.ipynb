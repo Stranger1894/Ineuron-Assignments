{
 "cells": [
  {
   "cell_type": "code",
   "execution_count": null,
   "metadata": {},
   "outputs": [],
   "source": [
    "1.\tWrite a Python program to Extract Unique values dictionary values?\n",
    "2.\tWrite a Python program to find the sum of all items in a dictionary?\n",
    "3.\tWrite a Python program to Merging two Dictionaries?\n",
    "4.\tWrite a Python program to convert key-values list to flat dictionary?\n",
    "5.\tWrite a Python program to insertion at the beginning in OrderedDict?\n",
    "6.\tWrite a Python program to check order of character in string using OrderedDict()?\n",
    "7.\tWrite a Python program to sort Python Dictionaries by Key or Value?\n"
   ]
  },
  {
   "cell_type": "code",
   "execution_count": 23,
   "metadata": {},
   "outputs": [
    {
     "data": {
      "text/plain": [
       "{1, 2, 5, 6, 7, 8, 10, 11, 12}"
      ]
     },
     "execution_count": 23,
     "metadata": {},
     "output_type": "execute_result"
    }
   ],
   "source": [
    "# 1.\tWrite a Python program to Extract Unique values dictionary values?\n",
    "\n",
    "def unique(dict):\n",
    "    lst = []\n",
    "    for i in dict.values():\n",
    "        for j in i:\n",
    "            lst.append(j)\n",
    "\n",
    "    unique_values = set(lst)    \n",
    "    return unique_values\n",
    "    \n",
    "dct = {'gfg': [5, 6, 7, 8], 'is': [10, 11, 7, 5], 'best': [6, 12, 10, 8], 'for': [1, 2, 5]}\n",
    "    \n",
    "unique(dct)"
   ]
  },
  {
   "cell_type": "code",
   "execution_count": 26,
   "metadata": {},
   "outputs": [
    {
     "data": {
      "text/plain": [
       "600"
      ]
     },
     "execution_count": 26,
     "metadata": {},
     "output_type": "execute_result"
    }
   ],
   "source": [
    "# 2.\tWrite a Python program to find the sum of all items in a dictionary?\n",
    "\n",
    "def returnSum(dct):\n",
    " \n",
    "    lst = []\n",
    "    for i in dct:\n",
    "        lst.append(dct[i])\n",
    "    result = sum(lst)\n",
    " \n",
    "    return result\n",
    " \n",
    " \n",
    "\n",
    "dct = {'a': 100, 'b': 200, 'c': 300}\n",
    "returnSum(dct)"
   ]
  },
  {
   "cell_type": "code",
   "execution_count": 32,
   "metadata": {},
   "outputs": [
    {
     "data": {
      "text/plain": [
       "{'a': 10, 'b': 8, 'd': 6, 'c': 4}"
      ]
     },
     "execution_count": 32,
     "metadata": {},
     "output_type": "execute_result"
    }
   ],
   "source": [
    "# 3.\tWrite a Python program to Merging two Dictionaries?\n",
    "\n",
    "def merge(dict1, dict2):\n",
    "    res = {**dict1, **dict2}\n",
    "    return res\n",
    "\n",
    "\n",
    "dict1 = {'a': 10, 'b': 8}\n",
    "dict2 = {'d': 6, 'c': 4}\n",
    "\n",
    "merge(dict1, dict2)\n"
   ]
  },
  {
   "cell_type": "code",
   "execution_count": 43,
   "metadata": {},
   "outputs": [
    {
     "data": {
      "text/plain": [
       "{1: 'Jan', 2: 'Feb', 3: 'March'}"
      ]
     },
     "execution_count": 43,
     "metadata": {},
     "output_type": "execute_result"
    }
   ],
   "source": [
    "# 4.\tWrite a Python program to convert key-values list to flat dictionary?\n",
    "\n",
    "def convert():\n",
    "    dct = {'month' : [1, 2, 3], 'name' : ['Jan', 'Feb', 'March']}\n",
    "    res = {dct['month'][i]: dct['name'][i] for i in range(len(dct['month']))}\n",
    "    \n",
    "    return res\n",
    "\n",
    "\n",
    "convert()"
   ]
  },
  {
   "cell_type": "code",
   "execution_count": 44,
   "metadata": {},
   "outputs": [
    {
     "data": {
      "text/plain": [
       "OrderedDict([('manjeet', '4'),\n",
       "             ('akash', '4'),\n",
       "             ('akshat', '1'),\n",
       "             ('nikhil', '2')])"
      ]
     },
     "execution_count": 44,
     "metadata": {},
     "output_type": "execute_result"
    }
   ],
   "source": [
    "# 5.\tWrite a Python program to insertion at the beginning in OrderedDict?\n",
    "\n",
    "def insert_in_ordered_dict():\n",
    "    from collections import OrderedDict\n",
    "\n",
    "    dict1 = OrderedDict([('akshat', '1'), ('nikhil', '2')])\n",
    "    dict2 = OrderedDict([(\"manjeet\", '4'), (\"akash\", '4')])\n",
    "\n",
    "    both = OrderedDict(list(dict2.items()) + list(dict1.items()))\n",
    "    \n",
    "    return both\n",
    "\n",
    "insert_in_ordered_dict()"
   ]
  },
  {
   "cell_type": "code",
   "execution_count": 45,
   "metadata": {},
   "outputs": [
    {
     "name": "stdout",
     "output_type": "stream",
     "text": [
      "true\n"
     ]
    }
   ],
   "source": [
    "# 6.\tWrite a Python program to check order of character in string using OrderedDict()?\n",
    "\n",
    "from collections import OrderedDict\n",
    " \n",
    "def checkOrder(input, pattern):\n",
    "     \n",
    "    dict = OrderedDict.fromkeys(input)\n",
    " \n",
    "    ptrlen = 0\n",
    "    for key,value in dict.items():\n",
    "        if (key == pattern[ptrlen]):\n",
    "            ptrlen = ptrlen + 1\n",
    "         \n",
    "        if (ptrlen == (len(pattern))):\n",
    "            return 'true'\n",
    " \n",
    "    return 'false'\n",
    " \n",
    "    \n",
    "    \n",
    "input = 'engineers rock'\n",
    "pattern = 'er'\n",
    "print (checkOrder(input,pattern))"
   ]
  },
  {
   "cell_type": "code",
   "execution_count": 47,
   "metadata": {},
   "outputs": [
    {
     "data": {
      "text/plain": [
       "{'ajay': 9, 'eshmeet': 15, 'priya': 32, 'sourav': 2, 'vinay': 10}"
      ]
     },
     "execution_count": 47,
     "metadata": {},
     "output_type": "execute_result"
    }
   ],
   "source": [
    "# 7.\tWrite a Python program to sort Python Dictionaries by Key or Value?\n",
    "\n",
    "def sort_dict(dct):\n",
    "    myKeys = list(dct.keys())\n",
    "    myKeys.sort()\n",
    "    sorted_dict = {i: dct[i] for i in myKeys}\n",
    "    \n",
    "    return sorted_dict\n",
    "\n",
    "\n",
    "dct = {'vinay': 10, 'ajay': 9, 'eshmeet': 15, 'sourav': 2, 'priya': 32}\n",
    "\n",
    "\n",
    "sort_dict(dct)"
   ]
  }
 ],
 "metadata": {
  "kernelspec": {
   "display_name": "Python 3",
   "language": "python",
   "name": "python3"
  },
  "language_info": {
   "codemirror_mode": {
    "name": "ipython",
    "version": 3
   },
   "file_extension": ".py",
   "mimetype": "text/x-python",
   "name": "python",
   "nbconvert_exporter": "python",
   "pygments_lexer": "ipython3",
   "version": "3.8.5"
  }
 },
 "nbformat": 4,
 "nbformat_minor": 4
}
