{
 "cells": [
  {
   "cell_type": "code",
   "execution_count": null,
   "metadata": {},
   "outputs": [],
   "source": [
    "1.\tWrite a Python program to check if the given number is a Disarium Number?\n",
    "2.\tWrite a Python program to print all disarium numbers between 1 to 100?\n",
    "3.\tWrite a Python program to check if the given number is Happy Number?\n",
    "4.\tWrite a Python program to print all happy numbers between 1 and 100?\n",
    "5.\tWrite a Python program to determine whether the given number is a Harshad Number?\n",
    "6.\tWrite a Python program to print all pronic numbers between 1 and 100?\n"
   ]
  },
  {
   "cell_type": "code",
   "execution_count": 2,
   "metadata": {},
   "outputs": [
    {
     "name": "stdout",
     "output_type": "stream",
     "text": [
      "Enter a number: 135\n",
      "This is a disarium number\n"
     ]
    }
   ],
   "source": [
    "# sol 1: Write a Python program to check if the given number is a Disarium Number?\n",
    "\n",
    "def isdisarium():\n",
    "    \n",
    "    num_str = input(\"Enter a number: \")\n",
    "    \n",
    "    num = int(num_str)\n",
    "    \n",
    "    temp = num\n",
    "    length = len(num_str)\n",
    "    sum = 0\n",
    "    for i in range(length):\n",
    "        rem = temp%10\n",
    "        temp = temp//10\n",
    "        sum = sum + rem**(length-i)\n",
    "        \n",
    "    if sum == num:\n",
    "        print(\"This is a disarium number\")\n",
    "    else:\n",
    "        print(\"This is not a disarium number\")\n",
    "        \n",
    "isdisarium()"
   ]
  },
  {
   "cell_type": "code",
   "execution_count": 5,
   "metadata": {},
   "outputs": [
    {
     "name": "stdout",
     "output_type": "stream",
     "text": [
      "1\n",
      "2\n",
      "3\n",
      "4\n",
      "5\n",
      "6\n",
      "7\n",
      "8\n",
      "9\n",
      "89\n"
     ]
    }
   ],
   "source": [
    "#sol 2: Write a Python program to print all disarium numbers between 1 to 100?\n",
    "\n",
    "def disariumbetween():\n",
    "    \n",
    "    for i in range(1,101):\n",
    "        length = len(str(i))\n",
    "        sum = 0\n",
    "        temp = i \n",
    "        for j in range(length):\n",
    "            rem = temp%10\n",
    "            temp = temp//10\n",
    "            sum = sum + rem**(length-j)\n",
    "            \n",
    "        if sum == i:\n",
    "            print(i)\n",
    "        else:\n",
    "            continue\n",
    "            \n",
    "            \n",
    "disariumbetween()"
   ]
  },
  {
   "cell_type": "code",
   "execution_count": 12,
   "metadata": {},
   "outputs": [
    {
     "name": "stdout",
     "output_type": "stream",
     "text": [
      "Enter a number: 32\n",
      "32 is a happy number\n"
     ]
    }
   ],
   "source": [
    "#sol 3: Write a Python program to check if the given number is Happy Number?\n",
    "\n",
    "def happyNumber(num):    \n",
    "    rem = sum = 0;      \n",
    "    while(num > 0):    \n",
    "        rem = num%10;    \n",
    "        sum = sum + (rem*rem);    \n",
    "        num = num//10;    \n",
    "    return sum;    \n",
    "        \n",
    "\n",
    "def isHappyNumber():\n",
    "    \n",
    "    num = int(input(\"Enter a number: \"))\n",
    "    result = num\n",
    "\n",
    "    while(result != 1 and result != 4):    \n",
    "        result = happyNumber(result)    \n",
    "\n",
    "    #Happy number always ends with 1    \n",
    "    if(result == 1):    \n",
    "        print(str(num) + \" is a happy number\")\n",
    "        \n",
    "    #Unhappy number ends in a cycle of repeating numbers which contain 4    \n",
    "    elif(result == 4):    \n",
    "        print(str(num) + \" is not a happy number\")\n",
    "        \n",
    "\n",
    "isHappyNumber()"
   ]
  },
  {
   "cell_type": "code",
   "execution_count": 13,
   "metadata": {
    "scrolled": true
   },
   "outputs": [
    {
     "name": "stdout",
     "output_type": "stream",
     "text": [
      "1\n",
      "7\n",
      "10\n",
      "13\n",
      "19\n",
      "23\n",
      "28\n",
      "31\n",
      "32\n",
      "44\n",
      "49\n",
      "68\n",
      "70\n",
      "79\n",
      "82\n",
      "86\n",
      "91\n",
      "94\n",
      "97\n",
      "100\n"
     ]
    }
   ],
   "source": [
    "#sol 4: Write a Python program to print all happy numbers between 1 and 100?\n",
    "\n",
    "def happynumberbetween():\n",
    "    for i in range(1,101):\n",
    "        result = i\n",
    "\n",
    "        while(result != 1 and result != 4):    \n",
    "            result = happyNumber(result)    \n",
    "  \n",
    "        if(result == 1):    \n",
    "            print(i)\n",
    "\n",
    "        elif(result == 4):    \n",
    "            continue\n",
    "            \n",
    "            \n",
    "happynumberbetween()"
   ]
  },
  {
   "cell_type": "code",
   "execution_count": 15,
   "metadata": {},
   "outputs": [
    {
     "name": "stdout",
     "output_type": "stream",
     "text": [
      "Enter a number: 156\n",
      "156 is a harshad number\n"
     ]
    }
   ],
   "source": [
    "#Sol 5: Write a Python program to determine whether the given number is a Harshad Number?\n",
    "\n",
    "def isHarshadNumber():\n",
    "    num = int(input(\"Enter a number: \"))\n",
    "\n",
    "    rem = sum = 0       \n",
    "    n = num    \n",
    "   \n",
    "    while(num > 0):    \n",
    "        rem = num%10    \n",
    "        sum = sum + rem   \n",
    "        num = num//10    \n",
    "    \n",
    "    if(n%sum == 0):    \n",
    "        print(str(n) + \" is a harshad number\")    \n",
    "    else:    \n",
    "        print(str(n) + \" is not a harshad number\")   \n",
    "        \n",
    "        \n",
    "isHarshadNumber()"
   ]
  },
  {
   "cell_type": "code",
   "execution_count": 17,
   "metadata": {},
   "outputs": [
    {
     "name": "stdout",
     "output_type": "stream",
     "text": [
      "1\n",
      "2\n",
      "3\n",
      "4\n",
      "5\n",
      "6\n",
      "7\n",
      "8\n",
      "9\n",
      "10\n",
      "12\n",
      "18\n",
      "20\n",
      "21\n",
      "24\n",
      "27\n",
      "30\n",
      "36\n",
      "40\n",
      "42\n",
      "45\n",
      "48\n",
      "50\n",
      "54\n",
      "60\n",
      "63\n",
      "70\n",
      "72\n",
      "80\n",
      "81\n",
      "84\n",
      "90\n",
      "100\n"
     ]
    }
   ],
   "source": [
    "#Sol 6: Write a Python program to print all pronic numbers between 1 and 100?\n",
    "\n",
    "\n",
    "def harshadnumberbetween():\n",
    "    for i in range(1,101):\n",
    "        rem = sum = 0       \n",
    "        num = i    \n",
    "\n",
    "        while(num > 0):    \n",
    "            rem = num%10    \n",
    "            sum = sum + rem   \n",
    "            num = num//10    \n",
    "\n",
    "        if(i%sum == 0):    \n",
    "            print(i)    \n",
    "        else:    \n",
    "            continue\n",
    "            \n",
    "harshadnumberbetween()"
   ]
  }
 ],
 "metadata": {
  "kernelspec": {
   "display_name": "Python 3",
   "language": "python",
   "name": "python3"
  },
  "language_info": {
   "codemirror_mode": {
    "name": "ipython",
    "version": 3
   },
   "file_extension": ".py",
   "mimetype": "text/x-python",
   "name": "python",
   "nbconvert_exporter": "python",
   "pygments_lexer": "ipython3",
   "version": "3.8.5"
  }
 },
 "nbformat": 4,
 "nbformat_minor": 4
}
