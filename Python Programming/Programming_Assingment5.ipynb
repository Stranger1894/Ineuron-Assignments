{
 "cells": [
  {
   "cell_type": "code",
   "execution_count": null,
   "metadata": {},
   "outputs": [],
   "source": [
    "1.\tWrite a Python Program to Find LCM?\n",
    "2.\tWrite a Python Program to Find HCF?\n",
    "3.\tWrite a Python Program to Convert Decimal to Binary, Octal and Hexadecimal?\n",
    "4.\tWrite a Python Program To Find ASCII value of a character?\n",
    "5.\tWrite a Python Program to Make a Simple Calculator with 4 basic mathematical operations?\n"
   ]
  },
  {
   "cell_type": "code",
   "execution_count": 6,
   "metadata": {},
   "outputs": [
    {
     "name": "stdout",
     "output_type": "stream",
     "text": [
      "Enter first number: 45\n",
      "Enter second number: 23\n",
      "1035\n"
     ]
    }
   ],
   "source": [
    "#sol 1 \n",
    "\n",
    "def lcm():\n",
    "    \n",
    "    num1 = int(input(\"Enter first number: \"))\n",
    "    num2 = int(input(\"Enter second number: \"))\n",
    "    \n",
    "    if num1 > num2:\n",
    "       greater = num1\n",
    "    else:\n",
    "       greater = num2\n",
    "\n",
    "    while(True):\n",
    "       if((greater % num1 == 0) and (greater % num2 == 0)):\n",
    "           lcm = greater\n",
    "           break\n",
    "       greater += 1\n",
    "    print(lcm)\n",
    "    \n",
    "    \n",
    "lcm()"
   ]
  },
  {
   "cell_type": "code",
   "execution_count": 13,
   "metadata": {},
   "outputs": [
    {
     "name": "stdout",
     "output_type": "stream",
     "text": [
      "Enter first number: 12\n",
      "Enter second number: 18\n",
      "6\n"
     ]
    }
   ],
   "source": [
    "# sol 2\n",
    "\n",
    "def hcf():\n",
    "    \n",
    "    num1 = int(input(\"Enter first number: \"))\n",
    "    num2 = int(input(\"Enter second number: \"))\n",
    "    \n",
    "    if num1 > num2:\n",
    "       smaller = num2\n",
    "    else:\n",
    "       smaller = num1\n",
    "    \n",
    "    while(True):\n",
    "       if((num1 % smaller == 0) and (num2 % smaller == 0)):\n",
    "           hcf = smaller\n",
    "           break\n",
    "       smaller -= 1\n",
    "    print(hcf)\n",
    "    \n",
    "    \n",
    "hcf()    "
   ]
  },
  {
   "cell_type": "code",
   "execution_count": 1,
   "metadata": {},
   "outputs": [
    {
     "name": "stdout",
     "output_type": "stream",
     "text": [
      "Enter the number to be converted: 40\n",
      "The decimal value of 40 is:\n",
      "0b101000 in binary.\n",
      "0o50 in octal.\n",
      "0x28 in hexadecimal.\n"
     ]
    }
   ],
   "source": [
    "#sol 3\n",
    "\n",
    "def convert():\n",
    "    dec = int(input(\"Enter the number to be converted: \"))\n",
    "    \n",
    "    print(\"The decimal value of\", dec, \"is:\")\n",
    "    print(bin(dec), \"in binary.\")\n",
    "    print(oct(dec), \"in octal.\")\n",
    "    print(hex(dec), \"in hexadecimal.\")\n",
    "    \n",
    "    \n",
    "convert()"
   ]
  },
  {
   "cell_type": "code",
   "execution_count": 18,
   "metadata": {},
   "outputs": [
    {
     "name": "stdout",
     "output_type": "stream",
     "text": [
      "Enter the character to be converted to ASCII: 5\n",
      "The ASCII value of '5' is 53\n"
     ]
    }
   ],
   "source": [
    "#sol 4\n",
    "\n",
    "def ascii_converter():\n",
    "    char = input(\"Enter the character to be converted to ASCII: \")\n",
    "    print(\"The ASCII value of '\" + char + \"' is\", ord(char))\n",
    "    \n",
    "    \n",
    "ascii_converter()"
   ]
  },
  {
   "cell_type": "code",
   "execution_count": 19,
   "metadata": {},
   "outputs": [
    {
     "name": "stdout",
     "output_type": "stream",
     "text": [
      "Enter first number: 12\n",
      "Enter second number: 23\n",
      "Enter second operation: multiplication\n",
      "Multiplication of 12 and 23 =  276\n"
     ]
    }
   ],
   "source": [
    "#sol 5\n",
    "\n",
    "def simple_calculator():\n",
    "    \n",
    "    num1 = int(input(\"Enter first number: \"))\n",
    "    num2 = int(input(\"Enter second number: \"))\n",
    "    operation = input(\"Enter second operation: \")\n",
    "    \n",
    "    if operation == \"addition\":\n",
    "        print(f\"Addition of {num1} and {num2} = \" , num1+num2)\n",
    "        \n",
    "    elif operation == \"substraction\":\n",
    "        print(f\"Substraction of {num1} and {num2} = \", num1-num2)\n",
    "        \n",
    "    elif operation == \"multiplication\":\n",
    "        print(f\"Multiplication of {num1} and {num2} = \" ,num1*num2)\n",
    "        \n",
    "    elif operation == \"division\":\n",
    "        print(f\"Division of {num1} and {num2} = \" ,num1/num2)\n",
    "        \n",
    "    else:\n",
    "        print(\"wrong operation\")\n",
    "        \n",
    "simple_calculator()"
   ]
  }
 ],
 "metadata": {
  "kernelspec": {
   "display_name": "Python 3",
   "language": "python",
   "name": "python3"
  },
  "language_info": {
   "codemirror_mode": {
    "name": "ipython",
    "version": 3
   },
   "file_extension": ".py",
   "mimetype": "text/x-python",
   "name": "python",
   "nbconvert_exporter": "python",
   "pygments_lexer": "ipython3",
   "version": "3.8.5"
  }
 },
 "nbformat": 4,
 "nbformat_minor": 4
}
