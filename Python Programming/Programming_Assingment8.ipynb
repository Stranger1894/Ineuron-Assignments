{
 "cells": [
  {
   "cell_type": "code",
   "execution_count": null,
   "metadata": {},
   "outputs": [],
   "source": [
    "1.\tWrite a Python Program to Add Two Matrices?\n",
    "2.\tWrite a Python Program to Multiply Two Matrices?\n",
    "3.\tWrite a Python Program to Transpose a Matrix?\n",
    "4.\tWrite a Python Program to Sort Words in Alphabetic Order?\n",
    "5.\tWrite a Python Program to Remove Punctuation From a String?\n"
   ]
  },
  {
   "cell_type": "code",
   "execution_count": 1,
   "metadata": {},
   "outputs": [
    {
     "name": "stdout",
     "output_type": "stream",
     "text": [
      "[17, 15, 4]\n",
      "[10, 12, 9]\n",
      "[11, 13, 18]\n"
     ]
    }
   ],
   "source": [
    "#sol 1\n",
    "\n",
    "def matrix_add(X,Y):\n",
    "    result = [[0,0,0], [0,0,0], [0,0,0]]\n",
    "\n",
    "    for i in range(len(X)):\n",
    "       for j in range(len(X[0])):\n",
    "           result[i][j] = X[i][j] + Y[i][j]\n",
    "\n",
    "    for r in result:\n",
    "       print(r)\n",
    "    \n",
    "    \n",
    "X = [[12,7,3],\n",
    "    [4 ,5,6],\n",
    "    [7 ,8,9]]\n",
    "\n",
    "Y = [[5,8,1],\n",
    "    [6,7,3],\n",
    "    [4,5,9]]\n",
    "\n",
    "matrix_add(X,Y)"
   ]
  },
  {
   "cell_type": "code",
   "execution_count": 2,
   "metadata": {},
   "outputs": [
    {
     "name": "stdout",
     "output_type": "stream",
     "text": [
      "[60, 56, 3]\n",
      "[24, 35, 18]\n",
      "[28, 40, 81]\n"
     ]
    }
   ],
   "source": [
    "#sol 2\n",
    "\n",
    "def matrix_multiply(X,Y):\n",
    "    result = [[0,0,0], [0,0,0], [0,0,0]]\n",
    "\n",
    "    for i in range(len(X)):\n",
    "       for j in range(len(X[0])):\n",
    "           result[i][j] = X[i][j] * Y[i][j]\n",
    "\n",
    "    for r in result:\n",
    "       print(r)\n",
    "    \n",
    "    \n",
    "X = [[12,7,3],\n",
    "    [4 ,5,6],\n",
    "    [7 ,8,9]]\n",
    "\n",
    "Y = [[5,8,1],\n",
    "    [6,7,3],\n",
    "    [4,5,9]]\n",
    "\n",
    "matrix_multiply(X,Y)"
   ]
  },
  {
   "cell_type": "code",
   "execution_count": 4,
   "metadata": {},
   "outputs": [
    {
     "name": "stdout",
     "output_type": "stream",
     "text": [
      "[12, 4, 3]\n",
      "[7, 5, 8]\n"
     ]
    }
   ],
   "source": [
    "# Sol 3\n",
    "\n",
    "\n",
    "def matrix_transpose(X):\n",
    "    result = [[0,0,0], [0,0,0]]\n",
    "\n",
    "    for i in range(len(X)):\n",
    "       for j in range(len(X[0])):\n",
    "           result[j][i] = X[i][j]\n",
    "\n",
    "    for r in result:\n",
    "       print(r)\n",
    "    \n",
    "    \n",
    "X = [[12,7],\n",
    "    [4 ,5],\n",
    "    [3 ,8]]\n",
    "    \n",
    "    \n",
    "matrix_transpose(X)"
   ]
  },
  {
   "cell_type": "code",
   "execution_count": 32,
   "metadata": {},
   "outputs": [
    {
     "name": "stdout",
     "output_type": "stream",
     "text": [
      "Enter a string: have a nice day\n",
      "a day have nice\n"
     ]
    }
   ],
   "source": [
    "#sol 4\n",
    "\n",
    "def sort_alphbets_in_word():\n",
    "    \n",
    "    sentence = input(\"Enter a string: \")\n",
    "    \n",
    "    words_list = sentence.split()\n",
    "    words_list.sort()\n",
    "    \n",
    "    result = \" \".join(map(str,words_list))\n",
    "    \n",
    "    print(result)\n",
    "    \n",
    "    \n",
    "sort_alphbets_in_word()"
   ]
  },
  {
   "cell_type": "code",
   "execution_count": 33,
   "metadata": {},
   "outputs": [
    {
     "name": "stdout",
     "output_type": "stream",
     "text": [
      "Enter a string: Hello!!!, he said ---and went.\n",
      "Hello he said and went\n"
     ]
    }
   ],
   "source": [
    "#sol 5\n",
    "\n",
    "def no_punctuation():\n",
    "    \n",
    "    punctuations = '''!()-[]{};:'\"\\,<>./?@#$%^&*_~'''\n",
    "\n",
    "    sentence = input(\"Enter a string: \")\n",
    "\n",
    "    no_punct = \"\"\n",
    "    for char in sentence:\n",
    "       if char not in punctuations:\n",
    "           no_punct = no_punct + char\n",
    "\n",
    "    print(no_punct)\n",
    "    \n",
    "no_punctuation()"
   ]
  }
 ],
 "metadata": {
  "kernelspec": {
   "display_name": "Python 3",
   "language": "python",
   "name": "python3"
  },
  "language_info": {
   "codemirror_mode": {
    "name": "ipython",
    "version": 3
   },
   "file_extension": ".py",
   "mimetype": "text/x-python",
   "name": "python",
   "nbconvert_exporter": "python",
   "pygments_lexer": "ipython3",
   "version": "3.8.5"
  }
 },
 "nbformat": 4,
 "nbformat_minor": 4
}
