{
 "cells": [
  {
   "cell_type": "code",
   "execution_count": null,
   "metadata": {},
   "outputs": [],
   "source": [
    "1.\tWrite a Python program to print \"Hello Python\"?\n",
    "2.\tWrite a Python program to do arithmetical operations addition and division.?\n",
    "3.\tWrite a Python program to find the area of a triangle?\n",
    "4.\tWrite a Python program to swap two variables?\n",
    "5.\tWrite a Python program to generate a random number?\n"
   ]
  },
  {
   "cell_type": "code",
   "execution_count": 1,
   "metadata": {},
   "outputs": [
    {
     "name": "stdout",
     "output_type": "stream",
     "text": [
      "Hello Python\n"
     ]
    }
   ],
   "source": [
    "# Sol 1\n",
    "\n",
    "def custom_print():\n",
    "    print(\"Hello Python\")\n",
    "    \n",
    "    \n",
    "custom_print()"
   ]
  },
  {
   "cell_type": "code",
   "execution_count": 3,
   "metadata": {},
   "outputs": [
    {
     "name": "stdout",
     "output_type": "stream",
     "text": [
      "2.0\n"
     ]
    }
   ],
   "source": [
    "# Sol 2\n",
    "\n",
    "def arithmetic_operation(num1,num2,operation):\n",
    "    \n",
    "    if operation == \"addition\":\n",
    "        print(num1+num2)\n",
    "        \n",
    "    elif operation == \"division\":\n",
    "        print(num1/num2)\n",
    "        \n",
    "    else:\n",
    "        print(\"wrong operation\")\n",
    "    \n",
    "\n",
    "arithmetic_operation(4,2,\"division\")"
   ]
  },
  {
   "cell_type": "code",
   "execution_count": 6,
   "metadata": {},
   "outputs": [
    {
     "name": "stdout",
     "output_type": "stream",
     "text": [
      "Enter the height of triangle: 10\n",
      "Enter the base of triangle: 5\n",
      "The area of the triangle is: 25.0 unit sqaure\n"
     ]
    }
   ],
   "source": [
    "# Sol 3\n",
    "\n",
    "def area_of_triangle():\n",
    "    height = float(input(\"Enter the height of triangle: \"))\n",
    "    base = float(input(\"Enter the base of triangle: \"))\n",
    "    \n",
    "    area = (height*base)/2\n",
    "    \n",
    "    print(f\"The area of the triangle is: {area} unit sqaure\")\n",
    "    \n",
    "area_of_triangle()"
   ]
  },
  {
   "cell_type": "code",
   "execution_count": 7,
   "metadata": {},
   "outputs": [
    {
     "name": "stdout",
     "output_type": "stream",
     "text": [
      "Enter value of x: 5\n",
      "Enter value of y: 6\n",
      "The value of x after swapping: 6\n",
      "The value of y after swapping: 5\n"
     ]
    }
   ],
   "source": [
    "# Sol 4\n",
    "\n",
    "def swap_vars():\n",
    "    x = input('Enter value of x: ')\n",
    "    y = input('Enter value of y: ')\n",
    "\n",
    "    # create a temporary variable and swap the values\n",
    "    temp = x\n",
    "    x = y\n",
    "    y = temp\n",
    "\n",
    "    print(f'The value of x after swapping: {x}')\n",
    "    print(f'The value of y after swapping: {y}')\n",
    "    \n",
    "    \n",
    "swap_vars()"
   ]
  },
  {
   "cell_type": "code",
   "execution_count": 10,
   "metadata": {},
   "outputs": [
    {
     "name": "stdout",
     "output_type": "stream",
     "text": [
      "0.150072009393304\n"
     ]
    }
   ],
   "source": [
    "# Sol 5\n",
    "\n",
    "def random_num_gen():\n",
    "    import random\n",
    "    x = random.random()\n",
    "    print(x)\n",
    "    \n",
    "    \n",
    "random_num_gen()"
   ]
  }
 ],
 "metadata": {
  "kernelspec": {
   "display_name": "Python 3",
   "language": "python",
   "name": "python3"
  },
  "language_info": {
   "codemirror_mode": {
    "name": "ipython",
    "version": 3
   },
   "file_extension": ".py",
   "mimetype": "text/x-python",
   "name": "python",
   "nbconvert_exporter": "python",
   "pygments_lexer": "ipython3",
   "version": "3.8.5"
  }
 },
 "nbformat": 4,
 "nbformat_minor": 4
}
