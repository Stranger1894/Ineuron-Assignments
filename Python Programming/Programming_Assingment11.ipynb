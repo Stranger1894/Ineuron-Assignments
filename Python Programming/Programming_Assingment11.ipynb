{
 "cells": [
  {
   "cell_type": "code",
   "execution_count": null,
   "metadata": {},
   "outputs": [],
   "source": [
    "1.\tWrite a Python program to find words which are greater than given length k?\n",
    "2.\tWrite a Python program for removing i-th character from a string?\n",
    "3.\tWrite a Python program to split and join a string?\n",
    "4.\tWrite a Python to check if a given string is binary string or not?\n",
    "5.\tWrite a Python program to find uncommon words from two Strings?\n",
    "6.\tWrite a Python to find all duplicate characters in string?\n",
    "7.\tWrite a Python Program to check if a string contains any special character?\n"
   ]
  },
  {
   "cell_type": "code",
   "execution_count": 1,
   "metadata": {},
   "outputs": [
    {
     "name": "stdout",
     "output_type": "stream",
     "text": [
      "['sourav', 'best']\n"
     ]
    }
   ],
   "source": [
    "#sol 1: Write a Python program to find words which are greater than given length k?\n",
    "\n",
    "def string_k(k, str):\n",
    " \n",
    "    string = []\n",
    " \n",
    "    text = str.split(\" \")\n",
    " \n",
    "    for x in text:\n",
    " \n",
    "        if len(x) > k:\n",
    " \n",
    "            string.append(x)\n",
    " \n",
    "    return string\n",
    " \n",
    "\n",
    "k = 3\n",
    "str = \"sourav is the best\"\n",
    "print(string_k(k, str))"
   ]
  },
  {
   "cell_type": "code",
   "execution_count": 2,
   "metadata": {},
   "outputs": [
    {
     "name": "stdout",
     "output_type": "stream",
     "text": [
      "souraisthebest\n"
     ]
    }
   ],
   "source": [
    "#sol 2: Write a Python program for removing i-th character from a string?\n",
    "\n",
    "\n",
    "def remove(string, i):\n",
    "  \n",
    "    a = string[: i]\n",
    "    b = string[i + 1:]\n",
    "    return a + b\n",
    "  \n",
    "  \n",
    "  \n",
    "string = \"souravisthebest\"\n",
    "\n",
    "i = 5\n",
    "\n",
    "print(remove(string, i))"
   ]
  },
  {
   "cell_type": "code",
   "execution_count": 3,
   "metadata": {},
   "outputs": [
    {
     "name": "stdout",
     "output_type": "stream",
     "text": [
      "['sourav', 'is', 'the', 'best']\n",
      "sourav-is-the-best\n"
     ]
    }
   ],
   "source": [
    "#sol 3: Write a Python program to split and join a string?\n",
    "\n",
    "def split_string(string):\n",
    " \n",
    "    list_string = string.split(' ')\n",
    "     \n",
    "    return list_string\n",
    " \n",
    "def join_string(list_string):\n",
    " \n",
    "    string = '-'.join(list_string)\n",
    "     \n",
    "    return string\n",
    " \n",
    "\n",
    "string = 'sourav is the best'\n",
    "\n",
    "list_string = split_string(string)\n",
    "print(list_string)\n",
    "\n",
    "new_string = join_string(list_string)\n",
    "print(new_string)"
   ]
  },
  {
   "cell_type": "code",
   "execution_count": 4,
   "metadata": {},
   "outputs": [
    {
     "name": "stdout",
     "output_type": "stream",
     "text": [
      "Yes\n"
     ]
    }
   ],
   "source": [
    "#sol 4: Write a Python to check if a given string is binary string or not?\n",
    "\n",
    "def check(string):\n",
    " \n",
    "    p = set(string)\n",
    " \n",
    "    s = {'0', '1'}\n",
    " \n",
    "    if s == p or p == {'0'} or p == {'1'}:\n",
    "        print(\"Yes\")\n",
    "    else:\n",
    "        print(\"No\")\n",
    " \n",
    "\n",
    "string = \"101010000111\"\n",
    "\n",
    "check(string)"
   ]
  },
  {
   "cell_type": "code",
   "execution_count": 6,
   "metadata": {},
   "outputs": [
    {
     "data": {
      "text/plain": [
       "['Sourav', 'Bangalore', 'place', 'to', 'work']"
      ]
     },
     "execution_count": 6,
     "metadata": {},
     "output_type": "execute_result"
    }
   ],
   "source": [
    "#sol 5: Write a Python program to find uncommon words from two Strings?\n",
    "\n",
    "def uncommonWords(str1, str2):\n",
    "    \n",
    "    str1_list = str1.split()\n",
    "    str2_list = str2.split()\n",
    "    \n",
    "    uncommon = []\n",
    "    \n",
    "    for i in str1_list:\n",
    "        if i not in str2_list:\n",
    "            uncommon.append(i)\n",
    "            \n",
    "    for i in str2_list:\n",
    "        if i not in str1_list:\n",
    "            uncommon.append(i)\n",
    "            \n",
    "    return uncommon\n",
    "\n",
    "str1 = \"Sourav is the best\"\n",
    "\n",
    "str2 = \"Bangalore is the best place to work\"\n",
    "\n",
    "uncommonWords(str1,str2)"
   ]
  },
  {
   "cell_type": "code",
   "execution_count": 7,
   "metadata": {},
   "outputs": [
    {
     "name": "stdout",
     "output_type": "stream",
     "text": [
      "a l o r e   s t\n"
     ]
    }
   ],
   "source": [
    "#sol 6: Write a Python program to find all duplicate characters in string?\n",
    "\n",
    "def find_dup_char(string):\n",
    "    x=[]\n",
    "    for i in string:\n",
    "        if i not in x and string.count(i)>1:\n",
    "            x.append(i)\n",
    "    print(\" \".join(x))\n",
    " \n",
    "\n",
    "string = 'Bangalore is the best place to work'\n",
    "find_dup_char(string)"
   ]
  },
  {
   "cell_type": "code",
   "execution_count": 8,
   "metadata": {},
   "outputs": [
    {
     "name": "stdout",
     "output_type": "stream",
     "text": [
      "string has special charracters\n"
     ]
    }
   ],
   "source": [
    "#sol 7: Write a Python Program to check if a string contains any special character?\n",
    "\n",
    "def checkSpecialChars(n):\n",
    "    n.split()\n",
    "    c = 0\n",
    "    s = '[@_!#$%^&*()<>?/\\|}{~:]'  #special character set\n",
    "    for i in range(len(n)):\n",
    "\n",
    "        if n[i] in s:\n",
    "            c += 1  \n",
    "\n",
    "    if c>0:\n",
    "        print(\"string has special charracters\")\n",
    "    else:\n",
    "        print(\"string does not have special characters\")\n",
    "    \n",
    "    \n",
    "n = \"$our@v is the be$t\"\n",
    "checkSpecialChars(n)"
   ]
  }
 ],
 "metadata": {
  "kernelspec": {
   "display_name": "Python 3",
   "language": "python",
   "name": "python3"
  },
  "language_info": {
   "codemirror_mode": {
    "name": "ipython",
    "version": 3
   },
   "file_extension": ".py",
   "mimetype": "text/x-python",
   "name": "python",
   "nbconvert_exporter": "python",
   "pygments_lexer": "ipython3",
   "version": "3.8.5"
  }
 },
 "nbformat": 4,
 "nbformat_minor": 4
}
