{
 "cells": [
  {
   "cell_type": "code",
   "execution_count": null,
   "metadata": {},
   "outputs": [],
   "source": [
    "1.\tWrite a Python program to find sum of elements in list?\n",
    "2.\tWrite a Python program to  Multiply all numbers in the list?\n",
    "3.\tWrite a Python program to find smallest number in a list?\n",
    "4.\tWrite a Python program to find largest number in a list?\n",
    "5.\tWrite a Python program to find second largest number in a list?\n",
    "6.\tWrite a Python program to find N largest elements from a list?\n",
    "7.\tWrite a Python program to print even numbers in a list?\n",
    "8.\tWrite a Python program to print odd numbers in a List?\n",
    "9.\tWrite a Python program to Remove empty List from List?\n",
    "10.\tWrite a Python program to Cloning or Copying a list?\n",
    "11.\tWrite a Python program to Count occurrences of an element in a list?\n"
   ]
  },
  {
   "cell_type": "code",
   "execution_count": 1,
   "metadata": {},
   "outputs": [
    {
     "name": "stdout",
     "output_type": "stream",
     "text": [
      "21\n"
     ]
    }
   ],
   "source": [
    "#Sol 1: Write a Python program to find sum of elements in list?\n",
    "\n",
    "def sumOfListEle(lst):\n",
    "    sum = 0\n",
    "    for i in lst:\n",
    "        sum += i\n",
    "        \n",
    "    print(sum)\n",
    "    \n",
    "lst = [1,2,3,4,5,6]\n",
    "\n",
    "sumOfListEle(lst)"
   ]
  },
  {
   "cell_type": "code",
   "execution_count": 3,
   "metadata": {},
   "outputs": [
    {
     "name": "stdout",
     "output_type": "stream",
     "text": [
      "720\n"
     ]
    }
   ],
   "source": [
    "#sol 2: Write a Python program to  Multiply all numbers in the list?\n",
    "\n",
    "def productOfListEle(lst):\n",
    "    sum = 1\n",
    "    for i in lst:\n",
    "        sum *= i\n",
    "        \n",
    "    print(sum)\n",
    "    \n",
    "lst = [1,2,3,4,5,6]\n",
    "\n",
    "productOfListEle(lst)"
   ]
  },
  {
   "cell_type": "code",
   "execution_count": 6,
   "metadata": {},
   "outputs": [
    {
     "name": "stdout",
     "output_type": "stream",
     "text": [
      "5\n"
     ]
    }
   ],
   "source": [
    "#Sol 3: Write a Python program to find smallest number in a list?\n",
    "\n",
    "def minElement(lst):\n",
    "    min = lst[0]\n",
    "    for i in lst:\n",
    "        if i < min:\n",
    "            min = i\n",
    "        \n",
    "    print(min)\n",
    "    \n",
    "lst = [100,21,332,43,5,61]\n",
    "\n",
    "minElement(lst)"
   ]
  },
  {
   "cell_type": "code",
   "execution_count": 7,
   "metadata": {},
   "outputs": [
    {
     "name": "stdout",
     "output_type": "stream",
     "text": [
      "332\n"
     ]
    }
   ],
   "source": [
    "#Sol 4: Write a Python program to find largest number in a list?\n",
    "\n",
    "def maxElement(lst):\n",
    "    max = lst[0]\n",
    "    for i in lst:\n",
    "        if i > max:\n",
    "            max = i\n",
    "        \n",
    "    print(max)\n",
    "    \n",
    "lst = [100,21,332,43,5,61]\n",
    "\n",
    "maxElement(lst)"
   ]
  },
  {
   "cell_type": "code",
   "execution_count": 9,
   "metadata": {},
   "outputs": [
    {
     "name": "stdout",
     "output_type": "stream",
     "text": [
      "100\n"
     ]
    }
   ],
   "source": [
    "#sol 5: Write a Python program to find second largest number in a list?\n",
    "\n",
    "def secondLargestEle(lst):\n",
    "    lst.sort(reverse=True)\n",
    "    \n",
    "    print(lst[1])\n",
    "    \n",
    "lst = [100,21,332,43,5,61]\n",
    "\n",
    "secondLargestEle(lst)"
   ]
  },
  {
   "cell_type": "code",
   "execution_count": 11,
   "metadata": {},
   "outputs": [
    {
     "name": "stdout",
     "output_type": "stream",
     "text": [
      "[332, 100, 61]\n"
     ]
    }
   ],
   "source": [
    "#sol 6: Write a Python program to find N largest elements from a list?\n",
    "\n",
    "def nLargestEle(lst, n):\n",
    "    lst.sort(reverse=True)\n",
    "    \n",
    "    print(lst[:n])\n",
    "    \n",
    "lst = [100,21,332,43,5,61]\n",
    "\n",
    "nLargestEle(lst, 3)"
   ]
  },
  {
   "cell_type": "code",
   "execution_count": 13,
   "metadata": {},
   "outputs": [
    {
     "name": "stdout",
     "output_type": "stream",
     "text": [
      "100 332 "
     ]
    }
   ],
   "source": [
    "#Sol 7: Write a Python program to print even numbers in a list?\n",
    "\n",
    "def evenNum(lst):\n",
    "    for num in lst:\n",
    " \n",
    "        if num % 2 == 0:\n",
    "            print(num, end=\" \")\n",
    "            \n",
    "            \n",
    "lst = [100,21,332,43,5,61]\n",
    "evenNum(lst)"
   ]
  },
  {
   "cell_type": "code",
   "execution_count": 14,
   "metadata": {},
   "outputs": [
    {
     "name": "stdout",
     "output_type": "stream",
     "text": [
      "21 43 5 61 "
     ]
    }
   ],
   "source": [
    "#sol 8: Write a Python program to print odd numbers in a List?\n",
    "\n",
    "def oddNum(lst):\n",
    "    for num in lst:\n",
    " \n",
    "        if num % 2 != 0:\n",
    "            print(num, end=\" \")\n",
    "            \n",
    "            \n",
    "lst = [100,21,332,43,5,61]\n",
    "oddNum(lst)"
   ]
  },
  {
   "cell_type": "code",
   "execution_count": 19,
   "metadata": {},
   "outputs": [
    {
     "name": "stdout",
     "output_type": "stream",
     "text": [
      "[100, 21, 332, [43, 2], 5, 61]\n"
     ]
    }
   ],
   "source": [
    "#sol 9: Write a Python program to Remove empty List from List?\n",
    "\n",
    "def removeEmptyList(lst):\n",
    "    new_list = [ele for ele in lst if ele != []]\n",
    "                \n",
    "    print(new_list)\n",
    "            \n",
    "            \n",
    "lst = [100,21,332,[43,2],[],5,61]\n",
    "removeEmptyList(lst)"
   ]
  },
  {
   "cell_type": "code",
   "execution_count": 21,
   "metadata": {},
   "outputs": [
    {
     "name": "stdout",
     "output_type": "stream",
     "text": [
      "[100, 21, 332, [43, 2], [], 5, 61]\n"
     ]
    }
   ],
   "source": [
    "#sol 10 : Write a Python program to Cloning or Copying a list?\n",
    "\n",
    "def cloneList(lst):\n",
    "    new_list = [ele for ele in lst]\n",
    "    \n",
    "    print(new_list)\n",
    "    \n",
    "lst = [100,21,332,[43,2],[],5,61]\n",
    "cloneList(lst)"
   ]
  },
  {
   "cell_type": "code",
   "execution_count": 22,
   "metadata": {},
   "outputs": [
    {
     "name": "stdout",
     "output_type": "stream",
     "text": [
      "8 has occurred 5 times\n"
     ]
    }
   ],
   "source": [
    "#sol 11: Write a Python program to Count occurrences of an element in a list?\n",
    "\n",
    "def countX(lst, x):\n",
    "    count = 0\n",
    "    for ele in lst:\n",
    "        if (ele == x):\n",
    "            count = count + 1\n",
    "    return count\n",
    " \n",
    " \n",
    "lst = [8, 6, 8, 10, 8, 20, 10, 8, 8]\n",
    "x = 8\n",
    "print(f'{x} has occurred {countX(lst, x)} times')"
   ]
  }
 ],
 "metadata": {
  "kernelspec": {
   "display_name": "Python 3",
   "language": "python",
   "name": "python3"
  },
  "language_info": {
   "codemirror_mode": {
    "name": "ipython",
    "version": 3
   },
   "file_extension": ".py",
   "mimetype": "text/x-python",
   "name": "python",
   "nbconvert_exporter": "python",
   "pygments_lexer": "ipython3",
   "version": "3.8.5"
  }
 },
 "nbformat": 4,
 "nbformat_minor": 4
}
