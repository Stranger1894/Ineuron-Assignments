{
 "cells": [
  {
   "cell_type": "code",
   "execution_count": null,
   "metadata": {},
   "outputs": [],
   "source": [
    "1.How many seconds are in an hour? Use the interactive interpreter as a calculator and multiply the number of seconds in a minute (60) by the number of minutes in an hour (also 60).\n",
    "2. Assign the result from the previous task (seconds in an hour) to a variable called seconds_per_hour.\n",
    "3. How many seconds do you think there are in a day? Make use of the variables seconds per hour and minutes per hour.\n",
    "4. Calculate seconds per day again, but this time save the result in a variable called seconds_per_day\n",
    "5. Divide seconds_per_day by seconds_per_hour. Use floating-point (/) division.\n",
    "6. Divide seconds_per_day by seconds_per_hour, using integer (//) division. Did this number agree with the floating-point value from the previous question, aside from the final .0?\n",
    "7. Write a generator, genPrimes, that returns the sequence of prime numbers on successive calls to its next() method: 2, 3, 5, 7, 11, ...\n"
   ]
  },
  {
   "cell_type": "code",
   "execution_count": 2,
   "metadata": {},
   "outputs": [
    {
     "data": {
      "text/plain": [
       "3600"
      ]
     },
     "execution_count": 2,
     "metadata": {},
     "output_type": "execute_result"
    }
   ],
   "source": [
    "# 1.How many seconds are in an hour? Use the interactive interpreter as a calculator and multiply the number of seconds \n",
    "#in a minute (60) by the number of minutes in an hour (also 60).\n",
    "\n",
    "\n",
    "no_sec_in_min = 60\n",
    "no_min_in_hour = 60\n",
    "\n",
    "no_sec_in_min * no_min_in_hour"
   ]
  },
  {
   "cell_type": "code",
   "execution_count": 3,
   "metadata": {},
   "outputs": [],
   "source": [
    "# 2. Assign the result from the previous task (seconds in an hour) to a variable called seconds_per_hour.\n",
    "\n",
    "seconds_per_hour = no_sec_in_min * no_min_in_hour"
   ]
  },
  {
   "cell_type": "code",
   "execution_count": 4,
   "metadata": {},
   "outputs": [
    {
     "data": {
      "text/plain": [
       "86400"
      ]
     },
     "execution_count": 4,
     "metadata": {},
     "output_type": "execute_result"
    }
   ],
   "source": [
    "# 3. How many seconds do you think there are in a day? Make use of the variables seconds per hour and minutes per hour.\n",
    "\n",
    "seconds_per_hour*24"
   ]
  },
  {
   "cell_type": "code",
   "execution_count": 6,
   "metadata": {},
   "outputs": [],
   "source": [
    "#4. Calculate seconds per day again, but this time save the result in a variable called seconds_per_day\n",
    "\n",
    "seconds_per_day = seconds_per_hour*24"
   ]
  },
  {
   "cell_type": "code",
   "execution_count": 7,
   "metadata": {},
   "outputs": [
    {
     "data": {
      "text/plain": [
       "24.0"
      ]
     },
     "execution_count": 7,
     "metadata": {},
     "output_type": "execute_result"
    }
   ],
   "source": [
    "#5. Divide seconds_per_day by seconds_per_hour. Use floating-point (/) division.\n",
    "\n",
    "seconds_per_day/seconds_per_hour"
   ]
  },
  {
   "cell_type": "code",
   "execution_count": 8,
   "metadata": {},
   "outputs": [
    {
     "data": {
      "text/plain": [
       "24"
      ]
     },
     "execution_count": 8,
     "metadata": {},
     "output_type": "execute_result"
    }
   ],
   "source": [
    "# 6. Divide seconds_per_day by seconds_per_hour, using integer (//) division. Did this number agree with \n",
    "#the floating-point value from the previous question, aside from the final .0?\n",
    "\n",
    "seconds_per_day//seconds_per_hour\n",
    "\n",
    "#Yes this number agrees with the value from previous question"
   ]
  },
  {
   "cell_type": "code",
   "execution_count": 17,
   "metadata": {},
   "outputs": [],
   "source": [
    "#7. Write a generator, genPrimes, that returns the sequence of prime numbers on successive calls to its next() \n",
    "#method: 2, 3, 5, 7, 11, ...\n",
    "\n",
    "\n",
    "def genPrimes():\n",
    "    \"\"\"\n",
    "    Generator that yields prime numbers on successive calls to its next() method.\n",
    "    \"\"\"\n",
    "    # Initialize the list of primes with the first two prime numbers\n",
    "    primes = [2, 3]\n",
    "    \n",
    "    # Yield the first two primes\n",
    "    yield 2\n",
    "    yield 3\n",
    "    \n",
    "    # Start checking for new primes at 5\n",
    "    n = 5\n",
    "    \n",
    "    while True:\n",
    "        # Check if n is prime\n",
    "        is_prime = True\n",
    "        for p in primes:\n",
    "            if n % p == 0:\n",
    "                is_prime = False\n",
    "                break\n",
    "            if p ** 2 > n:\n",
    "                break\n",
    "                \n",
    "        # If n is prime, yield it and add it to the list of primes\n",
    "        if is_prime:\n",
    "            yield n\n",
    "            primes.append(n)\n",
    "        \n",
    "        # Increment n to the next odd number\n",
    "        n += 2\n"
   ]
  },
  {
   "cell_type": "code",
   "execution_count": 18,
   "metadata": {},
   "outputs": [],
   "source": [
    "prime_gen = genPrimes()"
   ]
  },
  {
   "cell_type": "code",
   "execution_count": 22,
   "metadata": {},
   "outputs": [
    {
     "data": {
      "text/plain": [
       "7"
      ]
     },
     "execution_count": 22,
     "metadata": {},
     "output_type": "execute_result"
    }
   ],
   "source": [
    "next_prime = next(prime_gen)\n",
    "next_prime"
   ]
  }
 ],
 "metadata": {
  "kernelspec": {
   "display_name": "Python 3",
   "language": "python",
   "name": "python3"
  },
  "language_info": {
   "codemirror_mode": {
    "name": "ipython",
    "version": 3
   },
   "file_extension": ".py",
   "mimetype": "text/x-python",
   "name": "python",
   "nbconvert_exporter": "python",
   "pygments_lexer": "ipython3",
   "version": "3.8.5"
  }
 },
 "nbformat": 4,
 "nbformat_minor": 4
}
